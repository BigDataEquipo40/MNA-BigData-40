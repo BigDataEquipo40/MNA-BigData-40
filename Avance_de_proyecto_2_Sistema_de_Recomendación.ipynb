{
  "cells": [
    {
      "cell_type": "markdown",
      "metadata": {
        "id": "glUryCzXohmd"
      },
      "source": [
        "###Sistema de recomendacion avanzado\n",
        "\n",
        "Este notebook es un sistema de recomendación avanzado que utiliza el algoritmo de filtrado colaborativo basado en el modelo de factorización matricial SVD (Descomposición de valores singulares) para recomendar productos a los usuarios."
      ]
    },
    {
      "cell_type": "code",
      "source": [
        "!pip install surprise"
      ],
      "metadata": {
        "id": "6zyjPWgIqRXt",
        "colab": {
          "base_uri": "https://localhost:8080/"
        },
        "outputId": "4fdd7dfa-b835-4238-b8bc-92d95762ce9e"
      },
      "execution_count": 1,
      "outputs": [
        {
          "output_type": "stream",
          "name": "stdout",
          "text": [
            "Collecting surprise\n",
            "  Downloading surprise-0.1-py2.py3-none-any.whl (1.8 kB)\n",
            "Collecting scikit-surprise (from surprise)\n",
            "  Downloading scikit_surprise-1.1.4.tar.gz (154 kB)\n",
            "\u001b[2K     \u001b[90m━━━━━━━━━━━━━━━━━━━━━━━━━━━━━━━━━━━━━━━━\u001b[0m \u001b[32m154.4/154.4 kB\u001b[0m \u001b[31m4.4 MB/s\u001b[0m eta \u001b[36m0:00:00\u001b[0m\n",
            "\u001b[?25h  Installing build dependencies ... \u001b[?25l\u001b[?25hdone\n",
            "  Getting requirements to build wheel ... \u001b[?25l\u001b[?25hdone\n",
            "  Preparing metadata (pyproject.toml) ... \u001b[?25l\u001b[?25hdone\n",
            "Requirement already satisfied: joblib>=1.2.0 in /usr/local/lib/python3.10/dist-packages (from scikit-surprise->surprise) (1.4.2)\n",
            "Requirement already satisfied: numpy>=1.19.5 in /usr/local/lib/python3.10/dist-packages (from scikit-surprise->surprise) (1.25.2)\n",
            "Requirement already satisfied: scipy>=1.6.0 in /usr/local/lib/python3.10/dist-packages (from scikit-surprise->surprise) (1.11.4)\n",
            "Building wheels for collected packages: scikit-surprise\n",
            "  Building wheel for scikit-surprise (pyproject.toml) ... \u001b[?25l\u001b[?25hdone\n",
            "  Created wheel for scikit-surprise: filename=scikit_surprise-1.1.4-cp310-cp310-linux_x86_64.whl size=2357251 sha256=c58a92e6a270b4df5c73e1da90f344616743ae8dc8138ddb5cacf0d9403b2114\n",
            "  Stored in directory: /root/.cache/pip/wheels/4b/3f/df/6acbf0a40397d9bf3ff97f582cc22fb9ce66adde75bc71fd54\n",
            "Successfully built scikit-surprise\n",
            "Installing collected packages: scikit-surprise, surprise\n",
            "Successfully installed scikit-surprise-1.1.4 surprise-0.1\n"
          ]
        }
      ]
    },
    {
      "cell_type": "code",
      "execution_count": 2,
      "metadata": {
        "id": "30qP8Hvzohme"
      },
      "outputs": [],
      "source": [
        "#Librerias\n",
        "import numpy as np\n",
        "import matplotlib.pyplot as plt\n",
        "import pandas as pd\n",
        "import seaborn as sns\n",
        "\n",
        "from surprise import SVD\n",
        "from surprise import Dataset\n",
        "from surprise import Reader\n",
        "\n",
        "\n"
      ]
    },
    {
      "cell_type": "code",
      "source": [
        "from google.colab import drive\n",
        "drive.mount('/content/drive')"
      ],
      "metadata": {
        "id": "pE7Ln-ihokiT",
        "colab": {
          "base_uri": "https://localhost:8080/"
        },
        "outputId": "699b6ea4-47c3-4172-d222-89d09121abda"
      },
      "execution_count": 3,
      "outputs": [
        {
          "output_type": "stream",
          "name": "stdout",
          "text": [
            "Mounted at /content/drive\n"
          ]
        }
      ]
    },
    {
      "cell_type": "code",
      "execution_count": 4,
      "metadata": {
        "id": "_YxqWocnohmf",
        "colab": {
          "base_uri": "https://localhost:8080/",
          "height": 70
        },
        "outputId": "6651f93b-5863-484b-cc50-425a44888349"
      },
      "outputs": [
        {
          "output_type": "execute_result",
          "data": {
            "text/plain": [
              "\"\\nchunksize = 1000\\n\\nlist_dataframes = []\\n\\nfor chunk in pd.read_json('./datos/Electronics.jsonl', lines=True, chunksize=chunksize):\\n    list_dataframes.append(chunk)\\n\\nratings_df = pd.concat(list_dataframes)\\n\\n#Sacamos un sample de los datos para que sea mas facil de manejar\\n\\nratings_df = ratings_df.sample(frac=0.1, random_state=42)\\n\""
            ],
            "application/vnd.google.colaboratory.intrinsic+json": {
              "type": "string"
            }
          },
          "metadata": {},
          "execution_count": 4
        }
      ],
      "source": [
        "\n",
        "\"\"\"\n",
        "chunksize = 1000\n",
        "\n",
        "list_dataframes = []\n",
        "\n",
        "for chunk in pd.read_json('./datos/Electronics.jsonl', lines=True, chunksize=chunksize):\n",
        "    list_dataframes.append(chunk)\n",
        "\n",
        "ratings_df = pd.concat(list_dataframes)\n",
        "\n",
        "#Sacamos un sample de los datos para que sea mas facil de manejar\n",
        "\n",
        "ratings_df = ratings_df.sample(frac=0.1, random_state=42)\n",
        "\"\"\""
      ]
    },
    {
      "cell_type": "code",
      "execution_count": 5,
      "metadata": {
        "id": "BjfD-wIHohmf"
      },
      "outputs": [],
      "source": [
        "#Guardar datos en un csv\n",
        "#ratings_df.to_csv('./datos/Electronics.csv', index=False, escapechar='\\\\')\n",
        "\n",
        "#Cargamos los datos\n",
        "ratings_df = pd.read_csv('/content/drive/MyDrive/Electronics.csv', escapechar='\\\\')"
      ]
    },
    {
      "cell_type": "markdown",
      "metadata": {
        "id": "w6GXS578ohmg"
      },
      "source": [
        "### Paso 2. Descripción del dataset"
      ]
    },
    {
      "cell_type": "code",
      "source": [
        "ratings_df.head()"
      ],
      "metadata": {
        "id": "pm3EZUA4v3js",
        "colab": {
          "base_uri": "https://localhost:8080/",
          "height": 574
        },
        "outputId": "1d7ee562-df89-4eaf-be82-00db1f69c525"
      },
      "execution_count": 6,
      "outputs": [
        {
          "output_type": "execute_result",
          "data": {
            "text/plain": [
              "   rating                                             title  \\\n",
              "0       5                                        Five Stars   \n",
              "1       5  Seems durable and compatible with Fitbit inspire   \n",
              "2       4                                        Good Value   \n",
              "3       5                         Great unit for the money.   \n",
              "4       1                            plug and play it's not   \n",
              "\n",
              "                                                text images        asin  \\\n",
              "0                           All OK and as described.     []  B005FAPYXS   \n",
              "1  Fits well, seems durable, clips are easy to in...     []  B082HGVN48   \n",
              "2  Windows 8 takes a little bit of getting use to...     []  B00GPH6T8E   \n",
              "3  Sounds great and the plus side is you can conn...     []  B07YFXRNHF   \n",
              "4  Instructions and diagrams suck. Too many optio...     []  B075CZGFJZ   \n",
              "\n",
              "  parent_asin                       user_id                timestamp  \\\n",
              "0  B005FAPYXS  AES2QJS66UB66K2C7MNRDSEOOGAQ  2015-02-04 20:13:26.000   \n",
              "1  B082HGVN48  AEPP2SC5F7LFNKNR7ODMPGH2TOMQ  2020-06-23 19:56:40.098   \n",
              "2  B00GPH6T8E  AEDAKOXCEIOGFPF53OJYGAY7JMDA  2014-05-06 22:06:09.000   \n",
              "3  B07YFXRNHF  AHLZT2U7JPWQR4532Q46DMWG6NPA  2021-03-28 19:23:29.795   \n",
              "4  B075CZGFJZ  AG4LZFRGTPXYPNBLMVNUEOV4KAGQ  2018-04-02 19:41:17.220   \n",
              "\n",
              "   helpful_vote  verified_purchase  \n",
              "0             0               True  \n",
              "1             0               True  \n",
              "2             1               True  \n",
              "3             0               True  \n",
              "4             0               True  "
            ],
            "text/html": [
              "\n",
              "  <div id=\"df-d64395a2-228e-406f-8b18-4b5db3223a52\" class=\"colab-df-container\">\n",
              "    <div>\n",
              "<style scoped>\n",
              "    .dataframe tbody tr th:only-of-type {\n",
              "        vertical-align: middle;\n",
              "    }\n",
              "\n",
              "    .dataframe tbody tr th {\n",
              "        vertical-align: top;\n",
              "    }\n",
              "\n",
              "    .dataframe thead th {\n",
              "        text-align: right;\n",
              "    }\n",
              "</style>\n",
              "<table border=\"1\" class=\"dataframe\">\n",
              "  <thead>\n",
              "    <tr style=\"text-align: right;\">\n",
              "      <th></th>\n",
              "      <th>rating</th>\n",
              "      <th>title</th>\n",
              "      <th>text</th>\n",
              "      <th>images</th>\n",
              "      <th>asin</th>\n",
              "      <th>parent_asin</th>\n",
              "      <th>user_id</th>\n",
              "      <th>timestamp</th>\n",
              "      <th>helpful_vote</th>\n",
              "      <th>verified_purchase</th>\n",
              "    </tr>\n",
              "  </thead>\n",
              "  <tbody>\n",
              "    <tr>\n",
              "      <th>0</th>\n",
              "      <td>5</td>\n",
              "      <td>Five Stars</td>\n",
              "      <td>All OK and as described.</td>\n",
              "      <td>[]</td>\n",
              "      <td>B005FAPYXS</td>\n",
              "      <td>B005FAPYXS</td>\n",
              "      <td>AES2QJS66UB66K2C7MNRDSEOOGAQ</td>\n",
              "      <td>2015-02-04 20:13:26.000</td>\n",
              "      <td>0</td>\n",
              "      <td>True</td>\n",
              "    </tr>\n",
              "    <tr>\n",
              "      <th>1</th>\n",
              "      <td>5</td>\n",
              "      <td>Seems durable and compatible with Fitbit inspire</td>\n",
              "      <td>Fits well, seems durable, clips are easy to in...</td>\n",
              "      <td>[]</td>\n",
              "      <td>B082HGVN48</td>\n",
              "      <td>B082HGVN48</td>\n",
              "      <td>AEPP2SC5F7LFNKNR7ODMPGH2TOMQ</td>\n",
              "      <td>2020-06-23 19:56:40.098</td>\n",
              "      <td>0</td>\n",
              "      <td>True</td>\n",
              "    </tr>\n",
              "    <tr>\n",
              "      <th>2</th>\n",
              "      <td>4</td>\n",
              "      <td>Good Value</td>\n",
              "      <td>Windows 8 takes a little bit of getting use to...</td>\n",
              "      <td>[]</td>\n",
              "      <td>B00GPH6T8E</td>\n",
              "      <td>B00GPH6T8E</td>\n",
              "      <td>AEDAKOXCEIOGFPF53OJYGAY7JMDA</td>\n",
              "      <td>2014-05-06 22:06:09.000</td>\n",
              "      <td>1</td>\n",
              "      <td>True</td>\n",
              "    </tr>\n",
              "    <tr>\n",
              "      <th>3</th>\n",
              "      <td>5</td>\n",
              "      <td>Great unit for the money.</td>\n",
              "      <td>Sounds great and the plus side is you can conn...</td>\n",
              "      <td>[]</td>\n",
              "      <td>B07YFXRNHF</td>\n",
              "      <td>B07YFXRNHF</td>\n",
              "      <td>AHLZT2U7JPWQR4532Q46DMWG6NPA</td>\n",
              "      <td>2021-03-28 19:23:29.795</td>\n",
              "      <td>0</td>\n",
              "      <td>True</td>\n",
              "    </tr>\n",
              "    <tr>\n",
              "      <th>4</th>\n",
              "      <td>1</td>\n",
              "      <td>plug and play it's not</td>\n",
              "      <td>Instructions and diagrams suck. Too many optio...</td>\n",
              "      <td>[]</td>\n",
              "      <td>B075CZGFJZ</td>\n",
              "      <td>B075CZGFJZ</td>\n",
              "      <td>AG4LZFRGTPXYPNBLMVNUEOV4KAGQ</td>\n",
              "      <td>2018-04-02 19:41:17.220</td>\n",
              "      <td>0</td>\n",
              "      <td>True</td>\n",
              "    </tr>\n",
              "  </tbody>\n",
              "</table>\n",
              "</div>\n",
              "    <div class=\"colab-df-buttons\">\n",
              "      \n",
              "  <div class=\"colab-df-container\">\n",
              "    <button class=\"colab-df-convert\" onclick=\"convertToInteractive('df-d64395a2-228e-406f-8b18-4b5db3223a52')\"\n",
              "            title=\"Convert this dataframe to an interactive table.\"\n",
              "            style=\"display:none;\">\n",
              "      \n",
              "  <svg xmlns=\"http://www.w3.org/2000/svg\" height=\"24px\" viewBox=\"0 -960 960 960\">\n",
              "    <path d=\"M120-120v-720h720v720H120Zm60-500h600v-160H180v160Zm220 220h160v-160H400v160Zm0 220h160v-160H400v160ZM180-400h160v-160H180v160Zm440 0h160v-160H620v160ZM180-180h160v-160H180v160Zm440 0h160v-160H620v160Z\"/>\n",
              "  </svg>\n",
              "    </button>\n",
              "    \n",
              "  <style>\n",
              "    .colab-df-container {\n",
              "      display:flex;\n",
              "      gap: 12px;\n",
              "    }\n",
              "\n",
              "    .colab-df-convert {\n",
              "      background-color: #E8F0FE;\n",
              "      border: none;\n",
              "      border-radius: 50%;\n",
              "      cursor: pointer;\n",
              "      display: none;\n",
              "      fill: #1967D2;\n",
              "      height: 32px;\n",
              "      padding: 0 0 0 0;\n",
              "      width: 32px;\n",
              "    }\n",
              "\n",
              "    .colab-df-convert:hover {\n",
              "      background-color: #E2EBFA;\n",
              "      box-shadow: 0px 1px 2px rgba(60, 64, 67, 0.3), 0px 1px 3px 1px rgba(60, 64, 67, 0.15);\n",
              "      fill: #174EA6;\n",
              "    }\n",
              "\n",
              "    .colab-df-buttons div {\n",
              "      margin-bottom: 4px;\n",
              "    }\n",
              "\n",
              "    [theme=dark] .colab-df-convert {\n",
              "      background-color: #3B4455;\n",
              "      fill: #D2E3FC;\n",
              "    }\n",
              "\n",
              "    [theme=dark] .colab-df-convert:hover {\n",
              "      background-color: #434B5C;\n",
              "      box-shadow: 0px 1px 3px 1px rgba(0, 0, 0, 0.15);\n",
              "      filter: drop-shadow(0px 1px 2px rgba(0, 0, 0, 0.3));\n",
              "      fill: #FFFFFF;\n",
              "    }\n",
              "  </style>\n",
              "\n",
              "    <script>\n",
              "      const buttonEl =\n",
              "        document.querySelector('#df-d64395a2-228e-406f-8b18-4b5db3223a52 button.colab-df-convert');\n",
              "      buttonEl.style.display =\n",
              "        google.colab.kernel.accessAllowed ? 'block' : 'none';\n",
              "\n",
              "      async function convertToInteractive(key) {\n",
              "        const element = document.querySelector('#df-d64395a2-228e-406f-8b18-4b5db3223a52');\n",
              "        const dataTable =\n",
              "          await google.colab.kernel.invokeFunction('convertToInteractive',\n",
              "                                                    [key], {});\n",
              "        if (!dataTable) return;\n",
              "\n",
              "        const docLinkHtml = 'Like what you see? Visit the ' +\n",
              "          '<a target=\"_blank\" href=https://colab.research.google.com/notebooks/data_table.ipynb>data table notebook</a>'\n",
              "          + ' to learn more about interactive tables.';\n",
              "        element.innerHTML = '';\n",
              "        dataTable['output_type'] = 'display_data';\n",
              "        await google.colab.output.renderOutput(dataTable, element);\n",
              "        const docLink = document.createElement('div');\n",
              "        docLink.innerHTML = docLinkHtml;\n",
              "        element.appendChild(docLink);\n",
              "      }\n",
              "    </script>\n",
              "  </div>\n",
              "  \n",
              "    </div>\n",
              "  </div>\n",
              "  "
            ]
          },
          "metadata": {},
          "execution_count": 6
        }
      ]
    },
    {
      "cell_type": "code",
      "execution_count": 7,
      "metadata": {
        "id": "lkLGc3TXohmg",
        "colab": {
          "base_uri": "https://localhost:8080/"
        },
        "outputId": "756ea15a-6718-4367-d4a3-b9e901ccd21f"
      },
      "outputs": [
        {
          "output_type": "stream",
          "name": "stdout",
          "text": [
            "<class 'pandas.core.frame.DataFrame'>\n",
            "RangeIndex: 4388694 entries, 0 to 4388693\n",
            "Data columns (total 10 columns):\n",
            " #   Column             Dtype \n",
            "---  ------             ----- \n",
            " 0   rating             int64 \n",
            " 1   title              object\n",
            " 2   text               object\n",
            " 3   images             object\n",
            " 4   asin               object\n",
            " 5   parent_asin        object\n",
            " 6   user_id            object\n",
            " 7   timestamp          object\n",
            " 8   helpful_vote       int64 \n",
            " 9   verified_purchase  bool  \n",
            "dtypes: bool(1), int64(2), object(7)\n",
            "memory usage: 305.5+ MB\n"
          ]
        }
      ],
      "source": [
        "ratings_df.info()"
      ]
    },
    {
      "cell_type": "code",
      "execution_count": 8,
      "metadata": {
        "id": "G-KvG-RIohmg",
        "colab": {
          "base_uri": "https://localhost:8080/",
          "height": 300
        },
        "outputId": "b759813f-62a4-45c0-dea5-b5132e428eb1"
      },
      "outputs": [
        {
          "output_type": "execute_result",
          "data": {
            "text/plain": [
              "             rating  helpful_vote\n",
              "count  4.388694e+06  4.388694e+06\n",
              "mean   4.098699e+00  1.099181e+00\n",
              "std    1.412332e+00  2.052545e+01\n",
              "min    1.000000e+00 -1.000000e+00\n",
              "25%    4.000000e+00  0.000000e+00\n",
              "50%    5.000000e+00  0.000000e+00\n",
              "75%    5.000000e+00  0.000000e+00\n",
              "max    5.000000e+00  1.292800e+04"
            ],
            "text/html": [
              "\n",
              "  <div id=\"df-e77f9659-7c4a-415c-9ac7-c65ef6893151\" class=\"colab-df-container\">\n",
              "    <div>\n",
              "<style scoped>\n",
              "    .dataframe tbody tr th:only-of-type {\n",
              "        vertical-align: middle;\n",
              "    }\n",
              "\n",
              "    .dataframe tbody tr th {\n",
              "        vertical-align: top;\n",
              "    }\n",
              "\n",
              "    .dataframe thead th {\n",
              "        text-align: right;\n",
              "    }\n",
              "</style>\n",
              "<table border=\"1\" class=\"dataframe\">\n",
              "  <thead>\n",
              "    <tr style=\"text-align: right;\">\n",
              "      <th></th>\n",
              "      <th>rating</th>\n",
              "      <th>helpful_vote</th>\n",
              "    </tr>\n",
              "  </thead>\n",
              "  <tbody>\n",
              "    <tr>\n",
              "      <th>count</th>\n",
              "      <td>4.388694e+06</td>\n",
              "      <td>4.388694e+06</td>\n",
              "    </tr>\n",
              "    <tr>\n",
              "      <th>mean</th>\n",
              "      <td>4.098699e+00</td>\n",
              "      <td>1.099181e+00</td>\n",
              "    </tr>\n",
              "    <tr>\n",
              "      <th>std</th>\n",
              "      <td>1.412332e+00</td>\n",
              "      <td>2.052545e+01</td>\n",
              "    </tr>\n",
              "    <tr>\n",
              "      <th>min</th>\n",
              "      <td>1.000000e+00</td>\n",
              "      <td>-1.000000e+00</td>\n",
              "    </tr>\n",
              "    <tr>\n",
              "      <th>25%</th>\n",
              "      <td>4.000000e+00</td>\n",
              "      <td>0.000000e+00</td>\n",
              "    </tr>\n",
              "    <tr>\n",
              "      <th>50%</th>\n",
              "      <td>5.000000e+00</td>\n",
              "      <td>0.000000e+00</td>\n",
              "    </tr>\n",
              "    <tr>\n",
              "      <th>75%</th>\n",
              "      <td>5.000000e+00</td>\n",
              "      <td>0.000000e+00</td>\n",
              "    </tr>\n",
              "    <tr>\n",
              "      <th>max</th>\n",
              "      <td>5.000000e+00</td>\n",
              "      <td>1.292800e+04</td>\n",
              "    </tr>\n",
              "  </tbody>\n",
              "</table>\n",
              "</div>\n",
              "    <div class=\"colab-df-buttons\">\n",
              "      \n",
              "  <div class=\"colab-df-container\">\n",
              "    <button class=\"colab-df-convert\" onclick=\"convertToInteractive('df-e77f9659-7c4a-415c-9ac7-c65ef6893151')\"\n",
              "            title=\"Convert this dataframe to an interactive table.\"\n",
              "            style=\"display:none;\">\n",
              "      \n",
              "  <svg xmlns=\"http://www.w3.org/2000/svg\" height=\"24px\" viewBox=\"0 -960 960 960\">\n",
              "    <path d=\"M120-120v-720h720v720H120Zm60-500h600v-160H180v160Zm220 220h160v-160H400v160Zm0 220h160v-160H400v160ZM180-400h160v-160H180v160Zm440 0h160v-160H620v160ZM180-180h160v-160H180v160Zm440 0h160v-160H620v160Z\"/>\n",
              "  </svg>\n",
              "    </button>\n",
              "    \n",
              "  <style>\n",
              "    .colab-df-container {\n",
              "      display:flex;\n",
              "      gap: 12px;\n",
              "    }\n",
              "\n",
              "    .colab-df-convert {\n",
              "      background-color: #E8F0FE;\n",
              "      border: none;\n",
              "      border-radius: 50%;\n",
              "      cursor: pointer;\n",
              "      display: none;\n",
              "      fill: #1967D2;\n",
              "      height: 32px;\n",
              "      padding: 0 0 0 0;\n",
              "      width: 32px;\n",
              "    }\n",
              "\n",
              "    .colab-df-convert:hover {\n",
              "      background-color: #E2EBFA;\n",
              "      box-shadow: 0px 1px 2px rgba(60, 64, 67, 0.3), 0px 1px 3px 1px rgba(60, 64, 67, 0.15);\n",
              "      fill: #174EA6;\n",
              "    }\n",
              "\n",
              "    .colab-df-buttons div {\n",
              "      margin-bottom: 4px;\n",
              "    }\n",
              "\n",
              "    [theme=dark] .colab-df-convert {\n",
              "      background-color: #3B4455;\n",
              "      fill: #D2E3FC;\n",
              "    }\n",
              "\n",
              "    [theme=dark] .colab-df-convert:hover {\n",
              "      background-color: #434B5C;\n",
              "      box-shadow: 0px 1px 3px 1px rgba(0, 0, 0, 0.15);\n",
              "      filter: drop-shadow(0px 1px 2px rgba(0, 0, 0, 0.3));\n",
              "      fill: #FFFFFF;\n",
              "    }\n",
              "  </style>\n",
              "\n",
              "    <script>\n",
              "      const buttonEl =\n",
              "        document.querySelector('#df-e77f9659-7c4a-415c-9ac7-c65ef6893151 button.colab-df-convert');\n",
              "      buttonEl.style.display =\n",
              "        google.colab.kernel.accessAllowed ? 'block' : 'none';\n",
              "\n",
              "      async function convertToInteractive(key) {\n",
              "        const element = document.querySelector('#df-e77f9659-7c4a-415c-9ac7-c65ef6893151');\n",
              "        const dataTable =\n",
              "          await google.colab.kernel.invokeFunction('convertToInteractive',\n",
              "                                                    [key], {});\n",
              "        if (!dataTable) return;\n",
              "\n",
              "        const docLinkHtml = 'Like what you see? Visit the ' +\n",
              "          '<a target=\"_blank\" href=https://colab.research.google.com/notebooks/data_table.ipynb>data table notebook</a>'\n",
              "          + ' to learn more about interactive tables.';\n",
              "        element.innerHTML = '';\n",
              "        dataTable['output_type'] = 'display_data';\n",
              "        await google.colab.output.renderOutput(dataTable, element);\n",
              "        const docLink = document.createElement('div');\n",
              "        docLink.innerHTML = docLinkHtml;\n",
              "        element.appendChild(docLink);\n",
              "      }\n",
              "    </script>\n",
              "  </div>\n",
              "  \n",
              "    </div>\n",
              "  </div>\n",
              "  "
            ]
          },
          "metadata": {},
          "execution_count": 8
        }
      ],
      "source": [
        "ratings_df.describe()"
      ]
    },
    {
      "cell_type": "markdown",
      "metadata": {
        "id": "INMdtFVbohmh"
      },
      "source": [
        "### Paso 3: Analisis Exploratorio\n",
        "\n",
        "Se realiza un analisis exploratorio de los datos para entender mejor la distribución de los datos y la relación entre las variables."
      ]
    },
    {
      "cell_type": "code",
      "execution_count": 9,
      "metadata": {
        "id": "E-n_met8ohmh"
      },
      "outputs": [],
      "source": [
        "#Eliminamos los nulos en rating, user_id y parent_asin\n",
        "ratings_df = ratings_df.dropna(subset=['rating', 'user_id', 'parent_asin'])"
      ]
    },
    {
      "cell_type": "code",
      "execution_count": 10,
      "metadata": {
        "id": "GQkpiaQ1ohmh",
        "colab": {
          "base_uri": "https://localhost:8080/"
        },
        "outputId": "fd85d376-c335-4a82-bf6c-c04e9835a5e0"
      },
      "outputs": [
        {
          "output_type": "stream",
          "name": "stdout",
          "text": [
            "Numbero de ratings:  4388694\n",
            "Number de usuarios:  3518282\n",
            "Number de items:  630816\n"
          ]
        }
      ],
      "source": [
        "n_ratings = len(ratings_df[\"rating\"])\n",
        "n_users = ratings_df[\"user_id\"].nunique()\n",
        "n_items = ratings_df[\"parent_asin\"].nunique()\n",
        "\n",
        "print(\"Numbero de ratings: \", n_ratings)\n",
        "print(\"Number de usuarios: \", n_users)\n",
        "print(\"Number de items: \", n_items)\n"
      ]
    },
    {
      "cell_type": "code",
      "execution_count": 11,
      "metadata": {
        "id": "M5Ng4n5Qohmh",
        "colab": {
          "base_uri": "https://localhost:8080/",
          "height": 206
        },
        "outputId": "ea68ebaf-0ef1-4cc2-b0e2-2db6e5e95749"
      },
      "outputs": [
        {
          "output_type": "execute_result",
          "data": {
            "text/plain": [
              "                                user_id  n_ratings\n",
              "3150743    AHMNA5UK3V66O2V3DZSBJA4FYMOA        103\n",
              "398629     AEIIRIHLIYKQGI7ZOCIJTRDF5NPQ         97\n",
              "3322684  AHSV5AUFONH7QMMUPF7M6FUJRJ6Q_1         90\n",
              "1594668    AFTZWAK3ZHAPCNSOT5GCKQDECBTQ         84\n",
              "2495834    AGUTZC4GHLTGYHA3KBEDRF6MHB6A         76"
            ],
            "text/html": [
              "\n",
              "  <div id=\"df-68ca0d4d-ef77-4da3-b1e2-6ce5c63dc6bb\" class=\"colab-df-container\">\n",
              "    <div>\n",
              "<style scoped>\n",
              "    .dataframe tbody tr th:only-of-type {\n",
              "        vertical-align: middle;\n",
              "    }\n",
              "\n",
              "    .dataframe tbody tr th {\n",
              "        vertical-align: top;\n",
              "    }\n",
              "\n",
              "    .dataframe thead th {\n",
              "        text-align: right;\n",
              "    }\n",
              "</style>\n",
              "<table border=\"1\" class=\"dataframe\">\n",
              "  <thead>\n",
              "    <tr style=\"text-align: right;\">\n",
              "      <th></th>\n",
              "      <th>user_id</th>\n",
              "      <th>n_ratings</th>\n",
              "    </tr>\n",
              "  </thead>\n",
              "  <tbody>\n",
              "    <tr>\n",
              "      <th>3150743</th>\n",
              "      <td>AHMNA5UK3V66O2V3DZSBJA4FYMOA</td>\n",
              "      <td>103</td>\n",
              "    </tr>\n",
              "    <tr>\n",
              "      <th>398629</th>\n",
              "      <td>AEIIRIHLIYKQGI7ZOCIJTRDF5NPQ</td>\n",
              "      <td>97</td>\n",
              "    </tr>\n",
              "    <tr>\n",
              "      <th>3322684</th>\n",
              "      <td>AHSV5AUFONH7QMMUPF7M6FUJRJ6Q_1</td>\n",
              "      <td>90</td>\n",
              "    </tr>\n",
              "    <tr>\n",
              "      <th>1594668</th>\n",
              "      <td>AFTZWAK3ZHAPCNSOT5GCKQDECBTQ</td>\n",
              "      <td>84</td>\n",
              "    </tr>\n",
              "    <tr>\n",
              "      <th>2495834</th>\n",
              "      <td>AGUTZC4GHLTGYHA3KBEDRF6MHB6A</td>\n",
              "      <td>76</td>\n",
              "    </tr>\n",
              "  </tbody>\n",
              "</table>\n",
              "</div>\n",
              "    <div class=\"colab-df-buttons\">\n",
              "      \n",
              "  <div class=\"colab-df-container\">\n",
              "    <button class=\"colab-df-convert\" onclick=\"convertToInteractive('df-68ca0d4d-ef77-4da3-b1e2-6ce5c63dc6bb')\"\n",
              "            title=\"Convert this dataframe to an interactive table.\"\n",
              "            style=\"display:none;\">\n",
              "      \n",
              "  <svg xmlns=\"http://www.w3.org/2000/svg\" height=\"24px\" viewBox=\"0 -960 960 960\">\n",
              "    <path d=\"M120-120v-720h720v720H120Zm60-500h600v-160H180v160Zm220 220h160v-160H400v160Zm0 220h160v-160H400v160ZM180-400h160v-160H180v160Zm440 0h160v-160H620v160ZM180-180h160v-160H180v160Zm440 0h160v-160H620v160Z\"/>\n",
              "  </svg>\n",
              "    </button>\n",
              "    \n",
              "  <style>\n",
              "    .colab-df-container {\n",
              "      display:flex;\n",
              "      gap: 12px;\n",
              "    }\n",
              "\n",
              "    .colab-df-convert {\n",
              "      background-color: #E8F0FE;\n",
              "      border: none;\n",
              "      border-radius: 50%;\n",
              "      cursor: pointer;\n",
              "      display: none;\n",
              "      fill: #1967D2;\n",
              "      height: 32px;\n",
              "      padding: 0 0 0 0;\n",
              "      width: 32px;\n",
              "    }\n",
              "\n",
              "    .colab-df-convert:hover {\n",
              "      background-color: #E2EBFA;\n",
              "      box-shadow: 0px 1px 2px rgba(60, 64, 67, 0.3), 0px 1px 3px 1px rgba(60, 64, 67, 0.15);\n",
              "      fill: #174EA6;\n",
              "    }\n",
              "\n",
              "    .colab-df-buttons div {\n",
              "      margin-bottom: 4px;\n",
              "    }\n",
              "\n",
              "    [theme=dark] .colab-df-convert {\n",
              "      background-color: #3B4455;\n",
              "      fill: #D2E3FC;\n",
              "    }\n",
              "\n",
              "    [theme=dark] .colab-df-convert:hover {\n",
              "      background-color: #434B5C;\n",
              "      box-shadow: 0px 1px 3px 1px rgba(0, 0, 0, 0.15);\n",
              "      filter: drop-shadow(0px 1px 2px rgba(0, 0, 0, 0.3));\n",
              "      fill: #FFFFFF;\n",
              "    }\n",
              "  </style>\n",
              "\n",
              "    <script>\n",
              "      const buttonEl =\n",
              "        document.querySelector('#df-68ca0d4d-ef77-4da3-b1e2-6ce5c63dc6bb button.colab-df-convert');\n",
              "      buttonEl.style.display =\n",
              "        google.colab.kernel.accessAllowed ? 'block' : 'none';\n",
              "\n",
              "      async function convertToInteractive(key) {\n",
              "        const element = document.querySelector('#df-68ca0d4d-ef77-4da3-b1e2-6ce5c63dc6bb');\n",
              "        const dataTable =\n",
              "          await google.colab.kernel.invokeFunction('convertToInteractive',\n",
              "                                                    [key], {});\n",
              "        if (!dataTable) return;\n",
              "\n",
              "        const docLinkHtml = 'Like what you see? Visit the ' +\n",
              "          '<a target=\"_blank\" href=https://colab.research.google.com/notebooks/data_table.ipynb>data table notebook</a>'\n",
              "          + ' to learn more about interactive tables.';\n",
              "        element.innerHTML = '';\n",
              "        dataTable['output_type'] = 'display_data';\n",
              "        await google.colab.output.renderOutput(dataTable, element);\n",
              "        const docLink = document.createElement('div');\n",
              "        docLink.innerHTML = docLinkHtml;\n",
              "        element.appendChild(docLink);\n",
              "      }\n",
              "    </script>\n",
              "  </div>\n",
              "  \n",
              "    </div>\n",
              "  </div>\n",
              "  "
            ]
          },
          "metadata": {},
          "execution_count": 11
        }
      ],
      "source": [
        "user_freq = ratings_df[['user_id', 'rating']].groupby('user_id').count().reset_index()\n",
        "user_freq.columns = ['user_id', 'n_ratings']\n",
        "user_freq = user_freq.sort_values('n_ratings', ascending=False)\n",
        "user_freq.head()"
      ]
    },
    {
      "cell_type": "code",
      "execution_count": 12,
      "metadata": {
        "id": "_F_gFJttohmi",
        "colab": {
          "base_uri": "https://localhost:8080/"
        },
        "outputId": "0d23c5cf-72ed-4257-ff92-61c26dd4d5b1"
      },
      "outputs": [
        {
          "output_type": "stream",
          "name": "stdout",
          "text": [
            "Numero de ratings por usuario: 1.25.\n"
          ]
        }
      ],
      "source": [
        "print(f\"Numero de ratings por usuario: {user_freq['n_ratings'].mean():.2f}.\")"
      ]
    },
    {
      "cell_type": "code",
      "execution_count": 13,
      "metadata": {
        "id": "FonkkEUUohmi",
        "colab": {
          "base_uri": "https://localhost:8080/",
          "height": 206
        },
        "outputId": "d52b7ae0-91f3-409b-a38d-47d5b02b57e8"
      },
      "outputs": [
        {
          "output_type": "execute_result",
          "data": {
            "text/plain": [
              "       parent_asin  mean_rating\n",
              "630815  BT008G3W52          5.0\n",
              "414907  B07RQ8QG2P          5.0\n",
              "414934  B07RQGT9XR          5.0\n",
              "414933  B07RQGHSXW          5.0\n",
              "190125  B00PVVRMA4          5.0"
            ],
            "text/html": [
              "\n",
              "  <div id=\"df-f8a72f9e-96cd-489b-a916-b0a1ad978337\" class=\"colab-df-container\">\n",
              "    <div>\n",
              "<style scoped>\n",
              "    .dataframe tbody tr th:only-of-type {\n",
              "        vertical-align: middle;\n",
              "    }\n",
              "\n",
              "    .dataframe tbody tr th {\n",
              "        vertical-align: top;\n",
              "    }\n",
              "\n",
              "    .dataframe thead th {\n",
              "        text-align: right;\n",
              "    }\n",
              "</style>\n",
              "<table border=\"1\" class=\"dataframe\">\n",
              "  <thead>\n",
              "    <tr style=\"text-align: right;\">\n",
              "      <th></th>\n",
              "      <th>parent_asin</th>\n",
              "      <th>mean_rating</th>\n",
              "    </tr>\n",
              "  </thead>\n",
              "  <tbody>\n",
              "    <tr>\n",
              "      <th>630815</th>\n",
              "      <td>BT008G3W52</td>\n",
              "      <td>5.0</td>\n",
              "    </tr>\n",
              "    <tr>\n",
              "      <th>414907</th>\n",
              "      <td>B07RQ8QG2P</td>\n",
              "      <td>5.0</td>\n",
              "    </tr>\n",
              "    <tr>\n",
              "      <th>414934</th>\n",
              "      <td>B07RQGT9XR</td>\n",
              "      <td>5.0</td>\n",
              "    </tr>\n",
              "    <tr>\n",
              "      <th>414933</th>\n",
              "      <td>B07RQGHSXW</td>\n",
              "      <td>5.0</td>\n",
              "    </tr>\n",
              "    <tr>\n",
              "      <th>190125</th>\n",
              "      <td>B00PVVRMA4</td>\n",
              "      <td>5.0</td>\n",
              "    </tr>\n",
              "  </tbody>\n",
              "</table>\n",
              "</div>\n",
              "    <div class=\"colab-df-buttons\">\n",
              "      \n",
              "  <div class=\"colab-df-container\">\n",
              "    <button class=\"colab-df-convert\" onclick=\"convertToInteractive('df-f8a72f9e-96cd-489b-a916-b0a1ad978337')\"\n",
              "            title=\"Convert this dataframe to an interactive table.\"\n",
              "            style=\"display:none;\">\n",
              "      \n",
              "  <svg xmlns=\"http://www.w3.org/2000/svg\" height=\"24px\" viewBox=\"0 -960 960 960\">\n",
              "    <path d=\"M120-120v-720h720v720H120Zm60-500h600v-160H180v160Zm220 220h160v-160H400v160Zm0 220h160v-160H400v160ZM180-400h160v-160H180v160Zm440 0h160v-160H620v160ZM180-180h160v-160H180v160Zm440 0h160v-160H620v160Z\"/>\n",
              "  </svg>\n",
              "    </button>\n",
              "    \n",
              "  <style>\n",
              "    .colab-df-container {\n",
              "      display:flex;\n",
              "      gap: 12px;\n",
              "    }\n",
              "\n",
              "    .colab-df-convert {\n",
              "      background-color: #E8F0FE;\n",
              "      border: none;\n",
              "      border-radius: 50%;\n",
              "      cursor: pointer;\n",
              "      display: none;\n",
              "      fill: #1967D2;\n",
              "      height: 32px;\n",
              "      padding: 0 0 0 0;\n",
              "      width: 32px;\n",
              "    }\n",
              "\n",
              "    .colab-df-convert:hover {\n",
              "      background-color: #E2EBFA;\n",
              "      box-shadow: 0px 1px 2px rgba(60, 64, 67, 0.3), 0px 1px 3px 1px rgba(60, 64, 67, 0.15);\n",
              "      fill: #174EA6;\n",
              "    }\n",
              "\n",
              "    .colab-df-buttons div {\n",
              "      margin-bottom: 4px;\n",
              "    }\n",
              "\n",
              "    [theme=dark] .colab-df-convert {\n",
              "      background-color: #3B4455;\n",
              "      fill: #D2E3FC;\n",
              "    }\n",
              "\n",
              "    [theme=dark] .colab-df-convert:hover {\n",
              "      background-color: #434B5C;\n",
              "      box-shadow: 0px 1px 3px 1px rgba(0, 0, 0, 0.15);\n",
              "      filter: drop-shadow(0px 1px 2px rgba(0, 0, 0, 0.3));\n",
              "      fill: #FFFFFF;\n",
              "    }\n",
              "  </style>\n",
              "\n",
              "    <script>\n",
              "      const buttonEl =\n",
              "        document.querySelector('#df-f8a72f9e-96cd-489b-a916-b0a1ad978337 button.colab-df-convert');\n",
              "      buttonEl.style.display =\n",
              "        google.colab.kernel.accessAllowed ? 'block' : 'none';\n",
              "\n",
              "      async function convertToInteractive(key) {\n",
              "        const element = document.querySelector('#df-f8a72f9e-96cd-489b-a916-b0a1ad978337');\n",
              "        const dataTable =\n",
              "          await google.colab.kernel.invokeFunction('convertToInteractive',\n",
              "                                                    [key], {});\n",
              "        if (!dataTable) return;\n",
              "\n",
              "        const docLinkHtml = 'Like what you see? Visit the ' +\n",
              "          '<a target=\"_blank\" href=https://colab.research.google.com/notebooks/data_table.ipynb>data table notebook</a>'\n",
              "          + ' to learn more about interactive tables.';\n",
              "        element.innerHTML = '';\n",
              "        dataTable['output_type'] = 'display_data';\n",
              "        await google.colab.output.renderOutput(dataTable, element);\n",
              "        const docLink = document.createElement('div');\n",
              "        docLink.innerHTML = docLinkHtml;\n",
              "        element.appendChild(docLink);\n",
              "      }\n",
              "    </script>\n",
              "  </div>\n",
              "  \n",
              "    </div>\n",
              "  </div>\n",
              "  "
            ]
          },
          "metadata": {},
          "execution_count": 13
        }
      ],
      "source": [
        "#Producto con el rating promedio mas alto\n",
        "item_freq = ratings_df[['parent_asin', 'rating']].groupby('parent_asin').mean().reset_index()\n",
        "item_freq.columns = ['parent_asin', 'mean_rating']\n",
        "item_freq = item_freq.sort_values('mean_rating', ascending=False)\n",
        "item_freq.head()"
      ]
    },
    {
      "cell_type": "code",
      "execution_count": 14,
      "metadata": {
        "id": "gVvtDDWeohmi",
        "colab": {
          "base_uri": "https://localhost:8080/",
          "height": 206
        },
        "outputId": "9746e574-4092-4717-f296-0da0267b39bf"
      },
      "outputs": [
        {
          "output_type": "execute_result",
          "data": {
            "text/plain": [
              "       parent_asin  mean_rating\n",
              "236476  B018U1X9L2          1.0\n",
              "291804  B01NBRCA85          1.0\n",
              "566317  B09NTW1ZWG          1.0\n",
              "291815  B01NBS89KP          1.0\n",
              "173782  B00LETJFNE          1.0"
            ],
            "text/html": [
              "\n",
              "  <div id=\"df-3641745a-7751-4cd3-b73b-be5f16e6aa85\" class=\"colab-df-container\">\n",
              "    <div>\n",
              "<style scoped>\n",
              "    .dataframe tbody tr th:only-of-type {\n",
              "        vertical-align: middle;\n",
              "    }\n",
              "\n",
              "    .dataframe tbody tr th {\n",
              "        vertical-align: top;\n",
              "    }\n",
              "\n",
              "    .dataframe thead th {\n",
              "        text-align: right;\n",
              "    }\n",
              "</style>\n",
              "<table border=\"1\" class=\"dataframe\">\n",
              "  <thead>\n",
              "    <tr style=\"text-align: right;\">\n",
              "      <th></th>\n",
              "      <th>parent_asin</th>\n",
              "      <th>mean_rating</th>\n",
              "    </tr>\n",
              "  </thead>\n",
              "  <tbody>\n",
              "    <tr>\n",
              "      <th>236476</th>\n",
              "      <td>B018U1X9L2</td>\n",
              "      <td>1.0</td>\n",
              "    </tr>\n",
              "    <tr>\n",
              "      <th>291804</th>\n",
              "      <td>B01NBRCA85</td>\n",
              "      <td>1.0</td>\n",
              "    </tr>\n",
              "    <tr>\n",
              "      <th>566317</th>\n",
              "      <td>B09NTW1ZWG</td>\n",
              "      <td>1.0</td>\n",
              "    </tr>\n",
              "    <tr>\n",
              "      <th>291815</th>\n",
              "      <td>B01NBS89KP</td>\n",
              "      <td>1.0</td>\n",
              "    </tr>\n",
              "    <tr>\n",
              "      <th>173782</th>\n",
              "      <td>B00LETJFNE</td>\n",
              "      <td>1.0</td>\n",
              "    </tr>\n",
              "  </tbody>\n",
              "</table>\n",
              "</div>\n",
              "    <div class=\"colab-df-buttons\">\n",
              "      \n",
              "  <div class=\"colab-df-container\">\n",
              "    <button class=\"colab-df-convert\" onclick=\"convertToInteractive('df-3641745a-7751-4cd3-b73b-be5f16e6aa85')\"\n",
              "            title=\"Convert this dataframe to an interactive table.\"\n",
              "            style=\"display:none;\">\n",
              "      \n",
              "  <svg xmlns=\"http://www.w3.org/2000/svg\" height=\"24px\" viewBox=\"0 -960 960 960\">\n",
              "    <path d=\"M120-120v-720h720v720H120Zm60-500h600v-160H180v160Zm220 220h160v-160H400v160Zm0 220h160v-160H400v160ZM180-400h160v-160H180v160Zm440 0h160v-160H620v160ZM180-180h160v-160H180v160Zm440 0h160v-160H620v160Z\"/>\n",
              "  </svg>\n",
              "    </button>\n",
              "    \n",
              "  <style>\n",
              "    .colab-df-container {\n",
              "      display:flex;\n",
              "      gap: 12px;\n",
              "    }\n",
              "\n",
              "    .colab-df-convert {\n",
              "      background-color: #E8F0FE;\n",
              "      border: none;\n",
              "      border-radius: 50%;\n",
              "      cursor: pointer;\n",
              "      display: none;\n",
              "      fill: #1967D2;\n",
              "      height: 32px;\n",
              "      padding: 0 0 0 0;\n",
              "      width: 32px;\n",
              "    }\n",
              "\n",
              "    .colab-df-convert:hover {\n",
              "      background-color: #E2EBFA;\n",
              "      box-shadow: 0px 1px 2px rgba(60, 64, 67, 0.3), 0px 1px 3px 1px rgba(60, 64, 67, 0.15);\n",
              "      fill: #174EA6;\n",
              "    }\n",
              "\n",
              "    .colab-df-buttons div {\n",
              "      margin-bottom: 4px;\n",
              "    }\n",
              "\n",
              "    [theme=dark] .colab-df-convert {\n",
              "      background-color: #3B4455;\n",
              "      fill: #D2E3FC;\n",
              "    }\n",
              "\n",
              "    [theme=dark] .colab-df-convert:hover {\n",
              "      background-color: #434B5C;\n",
              "      box-shadow: 0px 1px 3px 1px rgba(0, 0, 0, 0.15);\n",
              "      filter: drop-shadow(0px 1px 2px rgba(0, 0, 0, 0.3));\n",
              "      fill: #FFFFFF;\n",
              "    }\n",
              "  </style>\n",
              "\n",
              "    <script>\n",
              "      const buttonEl =\n",
              "        document.querySelector('#df-3641745a-7751-4cd3-b73b-be5f16e6aa85 button.colab-df-convert');\n",
              "      buttonEl.style.display =\n",
              "        google.colab.kernel.accessAllowed ? 'block' : 'none';\n",
              "\n",
              "      async function convertToInteractive(key) {\n",
              "        const element = document.querySelector('#df-3641745a-7751-4cd3-b73b-be5f16e6aa85');\n",
              "        const dataTable =\n",
              "          await google.colab.kernel.invokeFunction('convertToInteractive',\n",
              "                                                    [key], {});\n",
              "        if (!dataTable) return;\n",
              "\n",
              "        const docLinkHtml = 'Like what you see? Visit the ' +\n",
              "          '<a target=\"_blank\" href=https://colab.research.google.com/notebooks/data_table.ipynb>data table notebook</a>'\n",
              "          + ' to learn more about interactive tables.';\n",
              "        element.innerHTML = '';\n",
              "        dataTable['output_type'] = 'display_data';\n",
              "        await google.colab.output.renderOutput(dataTable, element);\n",
              "        const docLink = document.createElement('div');\n",
              "        docLink.innerHTML = docLinkHtml;\n",
              "        element.appendChild(docLink);\n",
              "      }\n",
              "    </script>\n",
              "  </div>\n",
              "  \n",
              "    </div>\n",
              "  </div>\n",
              "  "
            ]
          },
          "metadata": {},
          "execution_count": 14
        }
      ],
      "source": [
        "#Producto conb el rating promedio mas bajo\n",
        "item_freq = ratings_df[['parent_asin', 'rating']].groupby('parent_asin').mean().reset_index()\n",
        "item_freq.columns = ['parent_asin', 'mean_rating']\n",
        "item_freq = item_freq.sort_values('mean_rating', ascending=True)\n",
        "item_freq.head()"
      ]
    },
    {
      "cell_type": "markdown",
      "metadata": {
        "id": "YVeZdWxqohmi"
      },
      "source": [
        "### Paso 3: sistema de recomendación avanzado"
      ]
    },
    {
      "cell_type": "markdown",
      "metadata": {
        "id": "PEaOTsWXohmi"
      },
      "source": [
        "Para el sistema de recomendación avanzado, se utiliza el algoritmo de filtrado colaborativo basado en el modelo de factorización matricial SVD (Descomposición de valores singulares) para recomendar productos a los usuarios."
      ]
    },
    {
      "cell_type": "code",
      "execution_count": 15,
      "metadata": {
        "id": "UOBmdhv_ohmi"
      },
      "outputs": [],
      "source": [
        "#Obtenemos los features de los productos SVD\n",
        "reader = Reader(rating_scale=(1, 5))\n",
        "data = Dataset.load_from_df(ratings_df[['user_id', 'parent_asin', 'rating']], reader)"
      ]
    },
    {
      "cell_type": "code",
      "execution_count": 16,
      "metadata": {
        "id": "4UUnFBzQohmi"
      },
      "outputs": [],
      "source": [
        "#trainset = data.build_full_trainset()\n"
      ]
    },
    {
      "cell_type": "code",
      "source": [
        "from surprise.model_selection import train_test_split\n",
        "\n",
        "#Dividimos los datos en train, test y validation\n",
        "x_train, x_test = train_test_split(data, test_size=0.2, random_state=42)"
      ],
      "metadata": {
        "id": "cokYv17e3GW3"
      },
      "execution_count": 34,
      "outputs": []
    },
    {
      "cell_type": "code",
      "execution_count": 38,
      "metadata": {
        "id": "OFKf2Qdjohmi",
        "colab": {
          "base_uri": "https://localhost:8080/"
        },
        "outputId": "547a63e1-c8d0-49cc-b5ad-3a7a07f8aca7"
      },
      "outputs": [
        {
          "output_type": "execute_result",
          "data": {
            "text/plain": [
              "<surprise.prediction_algorithms.matrix_factorization.SVD at 0x7aaaadb107f0>"
            ]
          },
          "metadata": {},
          "execution_count": 38
        }
      ],
      "source": [
        "model = SVD(n_factors=25, n_epochs=200, lr_all=0.001, reg_all=0.01)\n",
        "\n",
        "model.fit(x_train)"
      ]
    },
    {
      "cell_type": "code",
      "execution_count": 19,
      "metadata": {
        "id": "De9vJu0wohmj",
        "colab": {
          "base_uri": "https://localhost:8080/",
          "height": 52
        },
        "outputId": "34f8ee7e-464f-4d01-aaa2-8cc69cf86601"
      },
      "outputs": [
        {
          "output_type": "execute_result",
          "data": {
            "text/plain": [
              "'\\nfrom surprise import accuracy\\n\\ntestset = trainset.build_anti_testset()\\npredictions = model.test(testset)\\n\\naccuracy.rmse(predictions)\\naccuracy.mae(predictions)\\naccuracy.mse(predictions)\\n'"
            ],
            "application/vnd.google.colaboratory.intrinsic+json": {
              "type": "string"
            }
          },
          "metadata": {},
          "execution_count": 19
        }
      ],
      "source": [
        "#Metricas de evaluacion RSME, MSE Y MAE\n",
        "\"\"\"\n",
        "from surprise import accuracy\n",
        "\n",
        "testset = trainset.build_anti_testset()\n",
        "predictions = model.test(testset)\n",
        "\n",
        "accuracy.rmse(predictions)\n",
        "accuracy.mae(predictions)\n",
        "accuracy.mse(predictions)\n",
        "\"\"\"\n"
      ]
    },
    {
      "cell_type": "code",
      "source": [
        "from surprise import accuracy\n",
        "\n",
        "predictions = model.test(x_test)\n",
        "\n",
        "accuracy.rmse(predictions)\n",
        "accuracy.mae(predictions)\n",
        "accuracy.mse(predictions)"
      ],
      "metadata": {
        "id": "NI4dF7rI3Cws",
        "colab": {
          "base_uri": "https://localhost:8080/"
        },
        "outputId": "76292701-af90-459e-f715-92cd2df3816f"
      },
      "execution_count": 39,
      "outputs": [
        {
          "output_type": "stream",
          "name": "stdout",
          "text": [
            "RMSE: 1.3640\n",
            "MAE:  1.0670\n",
            "MSE: 1.8606\n"
          ]
        },
        {
          "output_type": "execute_result",
          "data": {
            "text/plain": [
              "1.8606215913480824"
            ]
          },
          "metadata": {},
          "execution_count": 39
        }
      ]
    },
    {
      "cell_type": "code",
      "execution_count": 37,
      "metadata": {
        "id": "8w245e8Iohmj",
        "colab": {
          "base_uri": "https://localhost:8080/"
        },
        "outputId": "33231883-f2ca-4135-ca1c-854132fc774f"
      },
      "outputs": [
        {
          "output_type": "stream",
          "name": "stdout",
          "text": [
            "Recomendaciones para el producto B082HGVN48\n",
            "B07ZGGSR19\n",
            "B019BLYRQG\n",
            "B07K82SSPT\n",
            "B071RCVK6W\n",
            "B0BJ7QMYBF\n",
            "B0748NSD2M\n",
            "B08HMVYL3R\n",
            "B07284MZPT\n",
            "B00840KRDI\n",
            "B07Q58BK7L\n"
          ]
        }
      ],
      "source": [
        "def obtener_recomendaciones_producto(model, user_id, n=10):\n",
        "    # Obtener una lista de todos los ids de los productos\n",
        "    item_ids = model.trainset.all_items()\n",
        "\n",
        "    # Obtener una lista de las predicciones de calificación para todos los productos que el usuario no ha calificado aún\n",
        "    predictions = [(model.trainset.to_raw_iid(item_id), model.predict(user_id, item_id).est) for item_id in item_ids]\n",
        "\n",
        "    # Ordenar las predicciones por calificación de mayor a menor y obtener los primeros n productos\n",
        "    predictions.sort(key=lambda x: x[1], reverse=True)\n",
        "    top_n = predictions[:n]\n",
        "\n",
        "    # Devolver los ids de los productos\n",
        "    return [item_id for (item_id, _) in top_n]\n",
        "\n",
        "print(\"Recomendaciones para el producto B082HGVN48\")\n",
        "for item in obtener_recomendaciones_producto(model, ''):\n",
        "    print(item)\n",
        "\n"
      ]
    }
  ],
  "metadata": {
    "kernelspec": {
      "display_name": "Python 3",
      "name": "python3"
    },
    "language_info": {
      "codemirror_mode": {
        "name": "ipython",
        "version": 3
      },
      "file_extension": ".py",
      "mimetype": "text/x-python",
      "name": "python",
      "nbconvert_exporter": "python",
      "pygments_lexer": "ipython3",
      "version": "3.10.7"
    },
    "colab": {
      "provenance": [],
      "gpuType": "T4",
      "machine_shape": "hm",
      "toc_visible": true
    },
    "accelerator": "GPU"
  },
  "nbformat": 4,
  "nbformat_minor": 0
}